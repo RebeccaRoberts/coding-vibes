{
  "nbformat": 4,
  "nbformat_minor": 0,
  "metadata": {
    "colab": {
      "provenance": [],
      "authorship_tag": "ABX9TyOphpEo40Or6D9GvdNTQNG0",
      "include_colab_link": true
    },
    "kernelspec": {
      "name": "python3",
      "display_name": "Python 3"
    },
    "language_info": {
      "name": "python"
    }
  },
  "cells": [
    {
      "cell_type": "markdown",
      "metadata": {
        "id": "view-in-github",
        "colab_type": "text"
      },
      "source": [
        "<a href=\"https://colab.research.google.com/github/RebeccaRoberts/coding-vibes/blob/main/Intro.ipynb\" target=\"_parent\"><img src=\"https://colab.research.google.com/assets/colab-badge.svg\" alt=\"Open In Colab\"/></a>"
      ]
    },
    {
      "cell_type": "code",
      "execution_count": 1,
      "metadata": {
        "colab": {
          "base_uri": "https://localhost:8080/"
        },
        "id": "KwigLOYRqITd",
        "outputId": "ef04321d-c33f-4014-f27b-96a9b0b223ea"
      },
      "outputs": [
        {
          "output_type": "stream",
          "name": "stdout",
          "text": [
            "hello\n"
          ]
        }
      ],
      "source": [
        "print(\"hello\")\n"
      ]
    },
    {
      "cell_type": "code",
      "source": [
        "name = \"Teja\""
      ],
      "metadata": {
        "id": "IgRgb3GeqNwX"
      },
      "execution_count": 2,
      "outputs": []
    },
    {
      "cell_type": "code",
      "source": [
        "print(\"hello, \" + name)"
      ],
      "metadata": {
        "colab": {
          "base_uri": "https://localhost:8080/"
        },
        "id": "eMPF6mkkqP56",
        "outputId": "3e0bcb79-265c-4dc0-ba46-e034f8bbae5f"
      },
      "execution_count": 4,
      "outputs": [
        {
          "output_type": "stream",
          "name": "stdout",
          "text": [
            "hello, Teja\n"
          ]
        }
      ]
    },
    {
      "cell_type": "markdown",
      "source": [
        "Data types:\n",
        "1. string: \"blabla\"\n",
        "2. int: 1, 2, 3000 (integers)\n",
        "3. float: 1.234\n",
        "4. list: [ 1, 2, 4] (list of ints)\n",
        "5. dict: my_dictionary[\"key\"] = \"value\""
      ],
      "metadata": {
        "id": "ZIaqBR3lqgEm"
      }
    },
    {
      "cell_type": "code",
      "source": [
        "my_string = \"this is snake case: my_string, this is camel case: myStringIsCamely\"\n",
        "print(my_string)"
      ],
      "metadata": {
        "colab": {
          "base_uri": "https://localhost:8080/"
        },
        "id": "LNDfNeIIqkWF",
        "outputId": "dc795a89-71d6-44ed-a857-8c954eab13f2"
      },
      "execution_count": 5,
      "outputs": [
        {
          "output_type": "stream",
          "name": "stdout",
          "text": [
            "this is snake case: my_string, this is camel case: myStringIsCamely\n"
          ]
        }
      ]
    },
    {
      "cell_type": "code",
      "source": [
        "my_int_is_big = 83883838383\n",
        "print(my_int_is_big)\n",
        "print(type(my_int_is_big))"
      ],
      "metadata": {
        "colab": {
          "base_uri": "https://localhost:8080/"
        },
        "id": "mmwEMhsCrcQ4",
        "outputId": "78af7ea0-c73d-4345-e125-d8ed16e107bb"
      },
      "execution_count": 6,
      "outputs": [
        {
          "output_type": "stream",
          "name": "stdout",
          "text": [
            "83883838383\n",
            "<class 'int'>\n"
          ]
        }
      ]
    },
    {
      "cell_type": "code",
      "source": [
        "my_float = 3.142\n",
        "print(my_float)\n",
        "print(type(my_float))"
      ],
      "metadata": {
        "colab": {
          "base_uri": "https://localhost:8080/"
        },
        "id": "pbGLWxAbrkUX",
        "outputId": "b741a8bf-9336-42ce-81dc-3847dd6f2c5e"
      },
      "execution_count": 11,
      "outputs": [
        {
          "output_type": "stream",
          "name": "stdout",
          "text": [
            "3.142\n",
            "<class 'float'>\n"
          ]
        }
      ]
    },
    {
      "cell_type": "code",
      "source": [
        "my_list = [1,2,3,4]\n",
        "print(my_list)\n",
        "print(type(my_list))\n",
        "my_weird_list = [1,2,3,\"cheeky\"]\n",
        "print(my_weird_list)\n",
        "print(type(my_weird_list))"
      ],
      "metadata": {
        "colab": {
          "base_uri": "https://localhost:8080/"
        },
        "id": "m8lm91eHrxIj",
        "outputId": "8e156eba-53a7-4126-e9e6-b4f8cbd4b72d"
      },
      "execution_count": 15,
      "outputs": [
        {
          "output_type": "stream",
          "name": "stdout",
          "text": [
            "[1, 2, 3, 4]\n",
            "<class 'list'>\n",
            "[1, 2, 3, 'cheeky']\n",
            "<class 'list'>\n"
          ]
        }
      ]
    },
    {
      "cell_type": "code",
      "source": [
        "my_dictionary = {\"cat\":\"katze\", \"dog\": \"hund\"}\n",
        "print(my_dictionary)\n",
        "print(type(my_dictionary))\n",
        "print(my_dictionary[\"cat\"])\n",
        "print(type(my_dictionary[\"cat\"]))\n"
      ],
      "metadata": {
        "colab": {
          "base_uri": "https://localhost:8080/"
        },
        "id": "pkMzPzrsr_Gx",
        "outputId": "cdd81a1e-e33b-4153-c090-a7adee08d146"
      },
      "execution_count": 19,
      "outputs": [
        {
          "output_type": "stream",
          "name": "stdout",
          "text": [
            "{'cat': 'katze', 'dog': 'hund'}\n",
            "<class 'dict'>\n",
            "katze\n",
            "<class 'str'>\n"
          ]
        }
      ]
    }
  ]
}